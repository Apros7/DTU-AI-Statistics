{
 "cells": [
  {
   "cell_type": "markdown",
   "metadata": {},
   "source": [
    "https://learn.inside.dtu.dk/d2l/le/content/186439/viewContent/726161/View"
   ]
  },
  {
   "cell_type": "code",
   "execution_count": 5,
   "metadata": {},
   "outputs": [],
   "source": [
    "import pandas as pd\n",
    "import numpy as np\n",
    "import matplotlib.pyplot as plt"
   ]
  },
  {
   "cell_type": "code",
   "execution_count": 17,
   "metadata": {},
   "outputs": [
    {
     "data": {
      "text/html": [
       "<div>\n",
       "<style scoped>\n",
       "    .dataframe tbody tr th:only-of-type {\n",
       "        vertical-align: middle;\n",
       "    }\n",
       "\n",
       "    .dataframe tbody tr th {\n",
       "        vertical-align: top;\n",
       "    }\n",
       "\n",
       "    .dataframe thead th {\n",
       "        text-align: right;\n",
       "    }\n",
       "</style>\n",
       "<table border=\"1\" class=\"dataframe\">\n",
       "  <thead>\n",
       "    <tr style=\"text-align: right;\">\n",
       "      <th></th>\n",
       "      <th>Module A</th>\n",
       "      <th>Module B</th>\n",
       "    </tr>\n",
       "  </thead>\n",
       "  <tbody>\n",
       "    <tr>\n",
       "      <th>0</th>\n",
       "      <td>120.000</td>\n",
       "      <td>120.000</td>\n",
       "    </tr>\n",
       "    <tr>\n",
       "      <th>1</th>\n",
       "      <td>22.000</td>\n",
       "      <td>27.000</td>\n",
       "    </tr>\n",
       "    <tr>\n",
       "      <th>2</th>\n",
       "      <td>0.183</td>\n",
       "      <td>0.225</td>\n",
       "    </tr>\n",
       "  </tbody>\n",
       "</table>\n",
       "</div>"
      ],
      "text/plain": [
       "   Module A  Module B\n",
       "0   120.000   120.000\n",
       "1    22.000    27.000\n",
       "2     0.183     0.225"
      ]
     },
     "execution_count": 17,
     "metadata": {},
     "output_type": "execute_result"
    }
   ],
   "source": [
    "Students = [120, 120]\n",
    "Active = [22, 27]\n",
    "Conversion = [0.183, 0.225]\n",
    "df = pd.DataFrame(data=[Students, Active, Conversion], columns=[\"Module A\", \"Module B\"])\n",
    "df"
   ]
  },
  {
   "cell_type": "markdown",
   "metadata": {},
   "source": [
    "Investigate a possible difference in the modules using a statistical test. Give an interpretation of\n",
    "the hypothesis of no difference."
   ]
  },
  {
   "cell_type": "code",
   "execution_count": 22,
   "metadata": {},
   "outputs": [],
   "source": [
    "import statsmodels.api as sm\n",
    "import math\n",
    "import scipy"
   ]
  },
  {
   "cell_type": "code",
   "execution_count": 23,
   "metadata": {},
   "outputs": [
    {
     "data": {
      "text/plain": [
       "0.42331487293262593"
      ]
     },
     "execution_count": 23,
     "metadata": {},
     "output_type": "execute_result"
    }
   ],
   "source": [
    "successes = df.iloc[1]\n",
    "trials = df.iloc[0]\n",
    "z_stat, p_value = sm.stats.proportions_ztest(successes, trials)\n",
    "p_value"
   ]
  },
  {
   "cell_type": "code",
   "execution_count": 32,
   "metadata": {},
   "outputs": [
    {
     "name": "stdout",
     "output_type": "stream",
     "text": [
      "Chi-square statistic: 0.4103002457527513\n",
      "P-value: 0.5218171518126997\n"
     ]
    }
   ],
   "source": [
    "from scipy.stats import chi2_contingency\n",
    "\n",
    "contingency_table = pd.DataFrame({'Successes': df.iloc[1], 'Failures': df.iloc[0] - df.iloc[1]})\n",
    "\n",
    "chi2_stat, p_value, dof, expected = chi2_contingency(contingency_table)\n",
    "\n",
    "print(f\"Chi-square statistic: {chi2_stat}\")\n",
    "print(f\"P-value: {p_value}\")"
   ]
  },
  {
   "cell_type": "code",
   "execution_count": 31,
   "metadata": {},
   "outputs": [
    {
     "data": {
      "text/plain": [
       "(0.14108129820059764, 0.22491870179940235)"
      ]
     },
     "execution_count": 31,
     "metadata": {},
     "output_type": "execute_result"
    }
   ],
   "source": [
    "p = 0.183\n",
    "n = 120\n",
    "alpha = 0.235\n",
    "z = abs(scipy.stats.norm.ppf(alpha / 2))\n",
    "p - z * math.sqrt((p*(1-p))/n), p + z * math.sqrt((p*(1-p))/n)"
   ]
  },
  {
   "cell_type": "code",
   "execution_count": 2,
   "metadata": {},
   "outputs": [
    {
     "data": {
      "image/png": "[encoded data removed]",
      "text/plain": [
       "<Figure size 640x480 with 1 Axes>"
      ]
     },
     "metadata": {},
     "output_type": "display_data"
    }
   ],
   "source": [
    "from math import sqrt\n",
    "import statistics\n",
    "import matplotlib.pyplot as plt\n",
    "\n",
    "def plot_confidence_interval(x, p, n, z=1.96, color='#2187bb', horizontal_line_width=0.25):\n",
    "    confidence_interval = z * sqrt((p*(1-p))/n)\n",
    "    left = x - horizontal_line_width / 2\n",
    "    top = p - confidence_interval\n",
    "    right = x + horizontal_line_width / 2\n",
    "    bottom = p + confidence_interval\n",
    "    plt.plot([x, x], [top, bottom], color=color)\n",
    "    plt.plot([left, right], [top, top], color=color)\n",
    "    plt.plot([left, right], [bottom, bottom], color=color)\n",
    "    plt.plot(x, p, 'o', color='#f44336')\n",
    "\n",
    "plt.xticks([1, 2], ['Module A', 'Module B'])\n",
    "plt.title('Confidence Interval for Testing Learning Modules')\n",
    "plot_confidence_interval(1, 0.183, 120)\n",
    "plot_confidence_interval(2, 0.225, 120)\n",
    "plt.ylabel('Accuracy')\n",
    "plt.show()"
   ]
  },
  {
   "cell_type": "markdown",
   "metadata": {},
   "source": [
    "No significant difference using propertions test. Approve the nul hypotheses of no difference"
   ]
  },
  {
   "cell_type": "markdown",
   "metadata": {},
   "source": [
    "-------"
   ]
  },
  {
   "cell_type": "markdown",
   "metadata": {},
   "source": [
    "If we conclude that Module B is better than Module A, what is the probability that this is a\n",
    "false conclusion?"
   ]
  },
  {
   "cell_type": "code",
   "execution_count": null,
   "metadata": {},
   "outputs": [],
   "source": []
  },
  {
   "cell_type": "markdown",
   "metadata": {},
   "source": [
    "Bootstrap"
   ]
  },
  {
   "cell_type": "markdown",
   "metadata": {},
   "source": [
    "This would, in this case, be wrong, as the p-value is larger than alpha"
   ]
  },
  {
   "cell_type": "markdown",
   "metadata": {},
   "source": [
    "42%?, 23.5%?"
   ]
  },
  {
   "cell_type": "markdown",
   "metadata": {},
   "source": [
    "-------"
   ]
  },
  {
   "cell_type": "markdown",
   "metadata": {},
   "source": [
    "On the other hand, if we conclude that there is no difference between Modules A and B, what is\n",
    "the probability that this is a false conclusion?"
   ]
  },
  {
   "cell_type": "markdown",
   "metadata": {},
   "source": [
    "This is true, 5% probability of being wrong"
   ]
  },
  {
   "cell_type": "markdown",
   "metadata": {},
   "source": [
    "------"
   ]
  },
  {
   "cell_type": "markdown",
   "metadata": {},
   "source": [
    "Could the platform have used the average time spent on each learning module as the performance\n",
    "metric in a comparison instead of the conversion rate? Argue why or why not."
   ]
  },
  {
   "cell_type": "markdown",
   "metadata": {},
   "source": [
    "Yes, can do p-test on if there is a difference, would probably be better to test on.\n",
    "Conversion is a bit vaguely described\n",
    "\n",
    "Could offer some problems as to what a good time is\n",
    "\n",
    "If use a lot of time could both be too difficult or interesting by student, so could both be good and bad at the same time - conversion is easier to conclude from"
   ]
  },
  {
   "cell_type": "markdown",
   "metadata": {},
   "source": [
    "--------"
   ]
  },
  {
   "cell_type": "markdown",
   "metadata": {},
   "source": [
    "What are the sources that can cause violation of assumptions in your test?"
   ]
  },
  {
   "cell_type": "markdown",
   "metadata": {},
   "source": [
    "Paired t-test assumptions\n",
    "\n",
    "Subjects must be independent. Measurements for one subject do not affect measurements for any other subject.\n",
    "\n",
    "Each of the paired measurements must be obtained from the same subject. ...\n",
    "\n",
    "The measured differences are normally distributed."
   ]
  },
  {
   "cell_type": "markdown",
   "metadata": {},
   "source": [
    "Must be independent\n",
    "\n",
    "Assumptions of random sampling"
   ]
  },
  {
   "cell_type": "markdown",
   "metadata": {},
   "source": [
    "The binomial distribution is in effect. Fixed number of trials. Trials are independent. Two categories for outcomes. \n",
    "\n",
    "Probabilities constant for each trial.\n",
    "\n",
    "There are at least 5 successes and at least 5 failures.\n",
    "\n",
    "np≥5 n p ≥ 5 and nq≥5."
   ]
  },
  {
   "cell_type": "markdown",
   "metadata": {},
   "source": [
    "------"
   ]
  },
  {
   "cell_type": "markdown",
   "metadata": {},
   "source": [
    "Consider that the type of course (mathematics vs. literature) is a possible confounder for the\n",
    "conversion rate. Investigate how you can take this confounder into account when comparing the\n",
    "two learning modules using a statistical test."
   ]
  },
  {
   "cell_type": "code",
   "execution_count": null,
   "metadata": {},
   "outputs": [],
   "source": []
  },
  {
   "cell_type": "markdown",
   "metadata": {},
   "source": [
    "Kruskal wallis, ANCOVA"
   ]
  },
  {
   "cell_type": "markdown",
   "metadata": {},
   "source": [
    "-------"
   ]
  },
  {
   "cell_type": "code",
   "execution_count": 53,
   "metadata": {},
   "outputs": [],
   "source": [
    "data_class1 = {\n",
    "    \"Module A\": [120, 22, 0.183],\n",
    "    \"Module B\": [120, 27, 0.225]\n",
    "}\n",
    "\n",
    "# Data for the second class (Module C and Module D)\n",
    "data_class2 = {\n",
    "    \"Module C\": [120, 20, 0],  # Replace x, y, z with the actual data for Module C\n",
    "    \"Module D\": [120, 50, 0]   # Replace a, b, c with the actual data for Module D\n",
    "}"
   ]
  },
  {
   "cell_type": "code",
   "execution_count": 54,
   "metadata": {},
   "outputs": [],
   "source": [
    "\n",
    "df_class1 = pd.DataFrame(data_class1, index=[\"Students\", \"Active\", \"Conversion\"])\n",
    "df_class2 = pd.DataFrame(data_class2, index=[\"Students\", \"Active\", \"Conversion\"])"
   ]
  },
  {
   "cell_type": "code",
   "execution_count": 55,
   "metadata": {},
   "outputs": [],
   "source": [
    "combined_data = pd.concat([df_class1, df_class2], axis=1)\n",
    "\n",
    "# contingency_table_combined = pd.DataFrame({\n",
    "#     'Module A': combined_data.loc['Active', 'Module A'],\n",
    "#     'Module B': combined_data.loc['Active', 'Module B'],\n",
    "#     'Module C': combined_data.loc['Active', 'Module C'],\n",
    "#     'Module D': combined_data.loc['Active', 'Module D']\n",
    "# })"
   ]
  },
  {
   "cell_type": "code",
   "execution_count": 56,
   "metadata": {},
   "outputs": [
    {
     "name": "stdout",
     "output_type": "stream",
     "text": [
      "Chi-square statistic: 14.83293114909458\n",
      "P-value: 0.021596703662165605\n"
     ]
    }
   ],
   "source": [
    "chi2_stat, p_value, dof, expected = chi2_contingency(combined_data)\n",
    "\n",
    "# Print the results\n",
    "print(f\"Chi-square statistic: {chi2_stat}\")\n",
    "print(f\"P-value: {p_value}\")"
   ]
  },
  {
   "cell_type": "code",
   "execution_count": 57,
   "metadata": {},
   "outputs": [
    {
     "name": "stdout",
     "output_type": "stream",
     "text": [
      "Unexpected exception formatting exception. Falling back to standard exception\n"
     ]
    },
    {
     "name": "stderr",
     "output_type": "stream",
     "text": [
      "Traceback (most recent call last):\n",
      "  File \"/Users/lucasvilsen/Library/Python/3.11/lib/python/site-packages/IPython/core/interactiveshell.py\", line 3460, in run_code\n",
      "  File \"/var/folders/pl/7f1cr2657p3bnpdt3bnm_9w00000gn/T/ipykernel_60246/4005412315.py\", line 9, in <module>\n",
      "    chi2_stat, p_value = chi2_contingency([diff_AB, diff_CD])\n",
      "                         ^^^^^^^^^^^^^^^^^^^^^^^^^^^^^^^^^^^^\n",
      "  File \"/opt/homebrew/lib/python3.11/site-packages/scipy/stats/contingency.py\", line 340, in chi2_contingency\n",
      "    raise ValueError(\"The internally computed table of expected \"\n",
      "ValueError: The internally computed table of expected frequencies has a zero element at (0, 0).\n",
      "\n",
      "During handling of the above exception, another exception occurred:\n",
      "\n",
      "Traceback (most recent call last):\n",
      "  File \"/Users/lucasvilsen/Library/Python/3.11/lib/python/site-packages/IPython/core/interactiveshell.py\", line 2057, in showtraceback\n",
      "  File \"/Users/lucasvilsen/Library/Python/3.11/lib/python/site-packages/IPython/core/ultratb.py\", line 1288, in structured_traceback\n",
      "  File \"/Users/lucasvilsen/Library/Python/3.11/lib/python/site-packages/IPython/core/ultratb.py\", line 1177, in structured_traceback\n",
      "  File \"/Users/lucasvilsen/Library/Python/3.11/lib/python/site-packages/IPython/core/ultratb.py\", line 1030, in structured_traceback\n",
      "  File \"/Users/lucasvilsen/Library/Python/3.11/lib/python/site-packages/IPython/core/ultratb.py\", line 935, in format_exception_as_a_whole\n",
      "  File \"/Users/lucasvilsen/Library/Python/3.11/lib/python/site-packages/IPython/core/ultratb.py\", line 1003, in get_records\n",
      "  File \"/opt/homebrew/Cellar/python@3.11/3.11.2_1/Frameworks/Python.framework/Versions/3.11/lib/python3.11/inspect.py\", line 1244, in getsourcelines\n",
      "    lines, lnum = findsource(object)\n",
      "                  ^^^^^^^^^^^^^^^^^^\n",
      "  File \"/opt/homebrew/Cellar/python@3.11/3.11.2_1/Frameworks/Python.framework/Versions/3.11/lib/python3.11/inspect.py\", line 1081, in findsource\n",
      "    raise OSError('could not get source code')\n",
      "OSError: could not get source code\n"
     ]
    }
   ],
   "source": [
    "df_class1 = pd.DataFrame(data_class1, index=[\"Students\", \"Active\", \"Conversion\"])\n",
    "df_class2 = pd.DataFrame(data_class2, index=[\"Students\", \"Active\", \"Conversion\"])\n",
    "\n",
    "# Calculate differences for each module pair\n",
    "diff_AB = df_class1[\"Module B\"] - df_class1[\"Module A\"]\n",
    "diff_CD = df_class2[\"Module D\"] - df_class2[\"Module C\"]\n",
    "\n",
    "# Compare the differences\n",
    "chi2_stat, p_value = chi2_contingency([diff_AB, diff_CD])\n",
    "\n",
    "# Print the results\n",
    "print(f\"Chi-square statistic: {chi2_stat}\")\n",
    "print(f\"P-value: {p_value}\")"
   ]
  },
  {
   "cell_type": "code",
   "execution_count": null,
   "metadata": {},
   "outputs": [],
   "source": []
  }
 ],
 "metadata": {
  "kernelspec": {
   "display_name": "Python 3.11.2 64-bit",
   "language": "python",
   "name": "python3"
  },
  "language_info": {
   "codemirror_mode": {
    "name": "ipython",
    "version": 3
   },
   "file_extension": ".py",
   "mimetype": "text/x-python",
   "name": "python",
   "nbconvert_exporter": "python",
   "pygments_lexer": "ipython3",
   "version": "3.11.2"
  },
  "orig_nbformat": 4,
  "vscode": {
   "interpreter": {
    "hash": "b0fa6594d8f4cbf19f97940f81e996739fb7646882a419484c72d19e05852a7e"
   }
  }
 },
 "nbformat": 4,
 "nbformat_minor": 2
}

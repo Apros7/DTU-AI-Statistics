{
 "cells": [
  {
   "cell_type": "code",
   "execution_count": 3,
   "metadata": {},
   "outputs": [],
   "source": [
    "from scipy.stats import ttest_ind, ttest_rel\n",
    "import scipy.stats as stats\n",
    "import pandas as pd\n",
    "import matplotlib.pyplot as plt\n",
    "import numpy as np\n",
    "from sklearn.linear_model import LinearRegression\n",
    "from sklearn.metrics import r2_score\n",
    "from statsmodels.graphics.factorplots import interaction_plot\n",
    "import statsmodels.api as sm"
   ]
  },
  {
   "cell_type": "markdown",
   "metadata": {},
   "source": [
    "### Ancova Root"
   ]
  },
  {
   "cell_type": "code",
   "execution_count": 66,
   "metadata": {},
   "outputs": [],
   "source": [
    "ungrazed_fruit = \"59.77;60.98;14.73;19.28;34.25;35.53;87.73;63.21;24.25;64.34;52.92;32.35;53.61;54.86;64.81;73.24;80.64;18.89;75.49;46.73\".split(\";\")\n",
    "ungrazed_roots = \"6.225;6.487;4.919;5.13;5.417;5.359;7.614;6.352;4.975;6.93;6.248;5.451;6.013;5.928;6.264;7.181;7.001;4.426;7.302;5.836\".split(\";\")\n",
    "grazed_fruit = \"80.31;82.35;105.1;73.79;50.08;78.28;41.48;98.47;40.15;116.1;38.94;60.77;84.37;70.11;14.95;70.7;71.01;83.03;52.26;46.64\".split(\";\")\n",
    "grazed_roots = \"8.988;8.975;9.844;8.508;7.354;8.643;7.916;9.351;7.066;10.25;6.958;8.001;9.039;8.91;6.106;7.691;8.515;8.53;8.158;7.382\".split(\";\")\n",
    "\n",
    "conv_lst = lambda x: np.array([float(el) for el in x])\n",
    "ungrazed_fruit = conv_lst(ungrazed_fruit)\n",
    "ungrazed_roots = conv_lst(ungrazed_roots)\n",
    "grazed_fruit = conv_lst(grazed_fruit)\n",
    "grazed_roots = conv_lst(grazed_roots)"
   ]
  },
  {
   "cell_type": "code",
   "execution_count": 67,
   "metadata": {},
   "outputs": [],
   "source": [
    "roots = np.append(ungrazed_roots, grazed_roots)\n",
    "fruits = np.append(ungrazed_fruit, grazed_fruit)\n",
    "labels = np.array([\"ungrazed\"] * len(ungrazed_fruit) + [\"grazed\"] * len(grazed_fruit))"
   ]
  },
  {
   "cell_type": "code",
   "execution_count": 68,
   "metadata": {},
   "outputs": [
    {
     "data": {
      "text/html": [
       "<div>\n",
       "<style scoped>\n",
       "    .dataframe tbody tr th:only-of-type {\n",
       "        vertical-align: middle;\n",
       "    }\n",
       "\n",
       "    .dataframe tbody tr th {\n",
       "        vertical-align: top;\n",
       "    }\n",
       "\n",
       "    .dataframe thead th {\n",
       "        text-align: right;\n",
       "    }\n",
       "</style>\n",
       "<table border=\"1\" class=\"dataframe\">\n",
       "  <thead>\n",
       "    <tr style=\"text-align: right;\">\n",
       "      <th></th>\n",
       "      <th>Label</th>\n",
       "      <th>Fruit</th>\n",
       "      <th>Root</th>\n",
       "    </tr>\n",
       "  </thead>\n",
       "  <tbody>\n",
       "    <tr>\n",
       "      <th>0</th>\n",
       "      <td>ungrazed</td>\n",
       "      <td>59.77</td>\n",
       "      <td>6.225</td>\n",
       "    </tr>\n",
       "    <tr>\n",
       "      <th>1</th>\n",
       "      <td>ungrazed</td>\n",
       "      <td>60.98</td>\n",
       "      <td>6.487</td>\n",
       "    </tr>\n",
       "    <tr>\n",
       "      <th>2</th>\n",
       "      <td>ungrazed</td>\n",
       "      <td>14.73</td>\n",
       "      <td>4.919</td>\n",
       "    </tr>\n",
       "    <tr>\n",
       "      <th>3</th>\n",
       "      <td>ungrazed</td>\n",
       "      <td>19.28</td>\n",
       "      <td>5.130</td>\n",
       "    </tr>\n",
       "    <tr>\n",
       "      <th>4</th>\n",
       "      <td>ungrazed</td>\n",
       "      <td>34.25</td>\n",
       "      <td>5.417</td>\n",
       "    </tr>\n",
       "    <tr>\n",
       "      <th>5</th>\n",
       "      <td>ungrazed</td>\n",
       "      <td>35.53</td>\n",
       "      <td>5.359</td>\n",
       "    </tr>\n",
       "    <tr>\n",
       "      <th>6</th>\n",
       "      <td>ungrazed</td>\n",
       "      <td>87.73</td>\n",
       "      <td>7.614</td>\n",
       "    </tr>\n",
       "    <tr>\n",
       "      <th>7</th>\n",
       "      <td>ungrazed</td>\n",
       "      <td>63.21</td>\n",
       "      <td>6.352</td>\n",
       "    </tr>\n",
       "    <tr>\n",
       "      <th>8</th>\n",
       "      <td>ungrazed</td>\n",
       "      <td>24.25</td>\n",
       "      <td>4.975</td>\n",
       "    </tr>\n",
       "    <tr>\n",
       "      <th>9</th>\n",
       "      <td>ungrazed</td>\n",
       "      <td>64.34</td>\n",
       "      <td>6.930</td>\n",
       "    </tr>\n",
       "    <tr>\n",
       "      <th>10</th>\n",
       "      <td>ungrazed</td>\n",
       "      <td>52.92</td>\n",
       "      <td>6.248</td>\n",
       "    </tr>\n",
       "    <tr>\n",
       "      <th>11</th>\n",
       "      <td>ungrazed</td>\n",
       "      <td>32.35</td>\n",
       "      <td>5.451</td>\n",
       "    </tr>\n",
       "    <tr>\n",
       "      <th>12</th>\n",
       "      <td>ungrazed</td>\n",
       "      <td>53.61</td>\n",
       "      <td>6.013</td>\n",
       "    </tr>\n",
       "    <tr>\n",
       "      <th>13</th>\n",
       "      <td>ungrazed</td>\n",
       "      <td>54.86</td>\n",
       "      <td>5.928</td>\n",
       "    </tr>\n",
       "    <tr>\n",
       "      <th>14</th>\n",
       "      <td>ungrazed</td>\n",
       "      <td>64.81</td>\n",
       "      <td>6.264</td>\n",
       "    </tr>\n",
       "    <tr>\n",
       "      <th>15</th>\n",
       "      <td>ungrazed</td>\n",
       "      <td>73.24</td>\n",
       "      <td>7.181</td>\n",
       "    </tr>\n",
       "    <tr>\n",
       "      <th>16</th>\n",
       "      <td>ungrazed</td>\n",
       "      <td>80.64</td>\n",
       "      <td>7.001</td>\n",
       "    </tr>\n",
       "    <tr>\n",
       "      <th>17</th>\n",
       "      <td>ungrazed</td>\n",
       "      <td>18.89</td>\n",
       "      <td>4.426</td>\n",
       "    </tr>\n",
       "    <tr>\n",
       "      <th>18</th>\n",
       "      <td>ungrazed</td>\n",
       "      <td>75.49</td>\n",
       "      <td>7.302</td>\n",
       "    </tr>\n",
       "    <tr>\n",
       "      <th>19</th>\n",
       "      <td>ungrazed</td>\n",
       "      <td>46.73</td>\n",
       "      <td>5.836</td>\n",
       "    </tr>\n",
       "    <tr>\n",
       "      <th>20</th>\n",
       "      <td>grazed</td>\n",
       "      <td>80.31</td>\n",
       "      <td>8.988</td>\n",
       "    </tr>\n",
       "    <tr>\n",
       "      <th>21</th>\n",
       "      <td>grazed</td>\n",
       "      <td>82.35</td>\n",
       "      <td>8.975</td>\n",
       "    </tr>\n",
       "    <tr>\n",
       "      <th>22</th>\n",
       "      <td>grazed</td>\n",
       "      <td>105.10</td>\n",
       "      <td>9.844</td>\n",
       "    </tr>\n",
       "    <tr>\n",
       "      <th>23</th>\n",
       "      <td>grazed</td>\n",
       "      <td>73.79</td>\n",
       "      <td>8.508</td>\n",
       "    </tr>\n",
       "    <tr>\n",
       "      <th>24</th>\n",
       "      <td>grazed</td>\n",
       "      <td>50.08</td>\n",
       "      <td>7.354</td>\n",
       "    </tr>\n",
       "    <tr>\n",
       "      <th>25</th>\n",
       "      <td>grazed</td>\n",
       "      <td>78.28</td>\n",
       "      <td>8.643</td>\n",
       "    </tr>\n",
       "    <tr>\n",
       "      <th>26</th>\n",
       "      <td>grazed</td>\n",
       "      <td>41.48</td>\n",
       "      <td>7.916</td>\n",
       "    </tr>\n",
       "    <tr>\n",
       "      <th>27</th>\n",
       "      <td>grazed</td>\n",
       "      <td>98.47</td>\n",
       "      <td>9.351</td>\n",
       "    </tr>\n",
       "    <tr>\n",
       "      <th>28</th>\n",
       "      <td>grazed</td>\n",
       "      <td>40.15</td>\n",
       "      <td>7.066</td>\n",
       "    </tr>\n",
       "    <tr>\n",
       "      <th>29</th>\n",
       "      <td>grazed</td>\n",
       "      <td>116.10</td>\n",
       "      <td>10.250</td>\n",
       "    </tr>\n",
       "    <tr>\n",
       "      <th>30</th>\n",
       "      <td>grazed</td>\n",
       "      <td>38.94</td>\n",
       "      <td>6.958</td>\n",
       "    </tr>\n",
       "    <tr>\n",
       "      <th>31</th>\n",
       "      <td>grazed</td>\n",
       "      <td>60.77</td>\n",
       "      <td>8.001</td>\n",
       "    </tr>\n",
       "    <tr>\n",
       "      <th>32</th>\n",
       "      <td>grazed</td>\n",
       "      <td>84.37</td>\n",
       "      <td>9.039</td>\n",
       "    </tr>\n",
       "    <tr>\n",
       "      <th>33</th>\n",
       "      <td>grazed</td>\n",
       "      <td>70.11</td>\n",
       "      <td>8.910</td>\n",
       "    </tr>\n",
       "    <tr>\n",
       "      <th>34</th>\n",
       "      <td>grazed</td>\n",
       "      <td>14.95</td>\n",
       "      <td>6.106</td>\n",
       "    </tr>\n",
       "    <tr>\n",
       "      <th>35</th>\n",
       "      <td>grazed</td>\n",
       "      <td>70.70</td>\n",
       "      <td>7.691</td>\n",
       "    </tr>\n",
       "    <tr>\n",
       "      <th>36</th>\n",
       "      <td>grazed</td>\n",
       "      <td>71.01</td>\n",
       "      <td>8.515</td>\n",
       "    </tr>\n",
       "    <tr>\n",
       "      <th>37</th>\n",
       "      <td>grazed</td>\n",
       "      <td>83.03</td>\n",
       "      <td>8.530</td>\n",
       "    </tr>\n",
       "    <tr>\n",
       "      <th>38</th>\n",
       "      <td>grazed</td>\n",
       "      <td>52.26</td>\n",
       "      <td>8.158</td>\n",
       "    </tr>\n",
       "    <tr>\n",
       "      <th>39</th>\n",
       "      <td>grazed</td>\n",
       "      <td>46.64</td>\n",
       "      <td>7.382</td>\n",
       "    </tr>\n",
       "  </tbody>\n",
       "</table>\n",
       "</div>"
      ],
      "text/plain": [
       "       Label   Fruit    Root\n",
       "0   ungrazed   59.77   6.225\n",
       "1   ungrazed   60.98   6.487\n",
       "2   ungrazed   14.73   4.919\n",
       "3   ungrazed   19.28   5.130\n",
       "4   ungrazed   34.25   5.417\n",
       "5   ungrazed   35.53   5.359\n",
       "6   ungrazed   87.73   7.614\n",
       "7   ungrazed   63.21   6.352\n",
       "8   ungrazed   24.25   4.975\n",
       "9   ungrazed   64.34   6.930\n",
       "10  ungrazed   52.92   6.248\n",
       "11  ungrazed   32.35   5.451\n",
       "12  ungrazed   53.61   6.013\n",
       "13  ungrazed   54.86   5.928\n",
       "14  ungrazed   64.81   6.264\n",
       "15  ungrazed   73.24   7.181\n",
       "16  ungrazed   80.64   7.001\n",
       "17  ungrazed   18.89   4.426\n",
       "18  ungrazed   75.49   7.302\n",
       "19  ungrazed   46.73   5.836\n",
       "20    grazed   80.31   8.988\n",
       "21    grazed   82.35   8.975\n",
       "22    grazed  105.10   9.844\n",
       "23    grazed   73.79   8.508\n",
       "24    grazed   50.08   7.354\n",
       "25    grazed   78.28   8.643\n",
       "26    grazed   41.48   7.916\n",
       "27    grazed   98.47   9.351\n",
       "28    grazed   40.15   7.066\n",
       "29    grazed  116.10  10.250\n",
       "30    grazed   38.94   6.958\n",
       "31    grazed   60.77   8.001\n",
       "32    grazed   84.37   9.039\n",
       "33    grazed   70.11   8.910\n",
       "34    grazed   14.95   6.106\n",
       "35    grazed   70.70   7.691\n",
       "36    grazed   71.01   8.515\n",
       "37    grazed   83.03   8.530\n",
       "38    grazed   52.26   8.158\n",
       "39    grazed   46.64   7.382"
      ]
     },
     "execution_count": 68,
     "metadata": {},
     "output_type": "execute_result"
    }
   ],
   "source": [
    "df = pd.DataFrame(data=[[l, f, r] for (l, f, r) in zip(labels, fruits, roots)], columns=[\"Label\", \"Fruit\", \"Root\"])\n",
    "df"
   ]
  },
  {
   "cell_type": "code",
   "execution_count": 69,
   "metadata": {},
   "outputs": [
    {
     "data": {
      "image/png": "[encoded data removed]",
      "text/plain": [
       "<Figure size 640x480 with 1 Axes>"
      ]
     },
     "metadata": {},
     "output_type": "display_data"
    }
   ],
   "source": [
    "plt.scatter(ungrazed_roots, ungrazed_fruit, label=\"Ungrazed\")\n",
    "plt.scatter(grazed_roots, grazed_fruit, label=\"Grazed\")\n",
    "plt.legend()\n",
    "plt.show()"
   ]
  },
  {
   "cell_type": "code",
   "execution_count": 70,
   "metadata": {},
   "outputs": [
    {
     "data": {
      "text/plain": [
       "<Axes: title={'center': 'Fruit'}, xlabel='[Label]'>"
      ]
     },
     "execution_count": 70,
     "metadata": {},
     "output_type": "execute_result"
    },
    {
     "data": {
      "image/png": "[encoded data removed]",
      "text/plain": [
       "<Figure size 640x480 with 1 Axes>"
      ]
     },
     "metadata": {},
     "output_type": "display_data"
    }
   ],
   "source": [
    "df.boxplot(column='Fruit', by=[\"Label\"], grid=False)"
   ]
  },
  {
   "cell_type": "code",
   "execution_count": 71,
   "metadata": {},
   "outputs": [
    {
     "name": "stdout",
     "output_type": "stream",
     "text": [
      "              df     sum_sq    mean_sq        F  PR(>F)\n",
      "Label        1.0   2911.801   2911.801   62.379   0.000\n",
      "Root         1.0  19155.351  19155.351  410.362   0.000\n",
      "Root:Label   1.0      4.640      4.640    0.099   0.754\n",
      "Residual    36.0   1680.451     46.679      NaN     NaN\n"
     ]
    }
   ],
   "source": [
    "formula = 'Fruit ~ Root * Label'\n",
    "L = sm.OLS.from_formula(formula, data=df).fit()\n",
    "anova = sm.stats.anova_lm(L, test='F', type=2).round(3)\n",
    "print(anova)"
   ]
  },
  {
   "cell_type": "code",
   "execution_count": 73,
   "metadata": {},
   "outputs": [
    {
     "data": {
      "image/png": "[encoded data removed]",
      "text/plain": [
       "<Figure size 640x480 with 1 Axes>"
      ]
     },
     "metadata": {},
     "output_type": "display_data"
    }
   ],
   "source": [
    "predictions = L.predict(df)\n",
    "ungrazed_predictions = predictions[:20]\n",
    "grazed_predictions = predictions[20:]\n",
    "\n",
    "plt.scatter(ungrazed_roots, ungrazed_fruit, label=\"Ungrazed\")\n",
    "plt.scatter(grazed_roots, grazed_fruit, label=\"Grazed\")\n",
    "plt.plot(ungrazed_roots, ungrazed_predictions, label=\"Ungrazed predictions\")\n",
    "plt.plot(grazed_roots, grazed_predictions, label=\"Grazed predictions\")\n",
    "plt.legend()\n",
    "plt.show()"
   ]
  },
  {
   "cell_type": "markdown",
   "metadata": {},
   "source": [
    "### Building Sheets"
   ]
  },
  {
   "cell_type": "code",
   "execution_count": 130,
   "metadata": {},
   "outputs": [],
   "source": [
    "df = pd.read_csv(\"sheets.txt\", sep=\"\\t\")\n",
    "df.rename(columns={\"log.permeability\": \"lpa\"}, inplace=True)\n",
    "df = df.astype({'day': str, 'machine': str, 'lpa': float})"
   ]
  },
  {
   "cell_type": "code",
   "execution_count": 133,
   "metadata": {},
   "outputs": [
    {
     "name": "stdout",
     "output_type": "stream",
     "text": [
      "            df   sum_sq  mean_sq        F   PR(>F)\n",
      "machine    2.0  0.00058  0.00029  0.02135  0.97888\n",
      "day        8.0  0.20758  0.02595  1.91325  0.07147\n",
      "Residual  70.0  0.94933  0.01356      NaN      NaN\n"
     ]
    }
   ],
   "source": [
    "formula = 'lpa ~ machine + day'\n",
    "L = sm.OLS.from_formula(formula, data=df).fit()\n",
    "anova = sm.stats.anova_lm(L, test='F').round(5)\n",
    "print(anova)"
   ]
  },
  {
   "cell_type": "code",
   "execution_count": 135,
   "metadata": {},
   "outputs": [
    {
     "name": "stdout",
     "output_type": "stream",
     "text": [
      "Mean Squared Error: 0.015692990204081624\n"
     ]
    }
   ],
   "source": [
    "pred_errors = []\n",
    "\n",
    "for i in range(len(df)):\n",
    "    train_data = df.drop(index=i)\n",
    "    test_data = df.loc[i]\n",
    "    formula = 'lpa ~ machine + day'\n",
    "    model = sm.OLS.from_formula(formula, data=train_data).fit()\n",
    "    prediction = model.predict(test_data)\n",
    "    pred_errors.append(float((test_data[\"lpa\"] - prediction)**2))\n",
    "\n",
    "mse1 = np.mean(pred_errors)\n",
    "print(\"Mean Squared Error:\", mse1)"
   ]
  },
  {
   "cell_type": "code",
   "execution_count": 144,
   "metadata": {},
   "outputs": [
    {
     "name": "stdout",
     "output_type": "stream",
     "text": [
      "Mean Squared Error: 0.01550153497942387\n"
     ]
    }
   ],
   "source": [
    "pred_errors = []\n",
    "machine_types = df['machine'].unique()\n",
    "\n",
    "for i, machine_type in enumerate(machine_types):\n",
    "    train_data = df[df['machine'] != machine_type]\n",
    "    test_data = df[df['machine'] == machine_type]\n",
    "    formula = 'lpa ~ day'\n",
    "    model = sm.OLS.from_formula(formula, data=train_data).fit()\n",
    "    prediction = model.predict(test_data)\n",
    "    pred_errors.append(((test_data[\"lpa\"].values - prediction.values) ** 2))\n",
    "\n",
    "mse1 = np.mean(pred_errors)\n",
    "print(\"Mean Squared Error:\", mse1)"
   ]
  },
  {
   "cell_type": "code",
   "execution_count": 145,
   "metadata": {},
   "outputs": [
    {
     "name": "stdout",
     "output_type": "stream",
     "text": [
      "Mean Squared Error: 0.01576364801954732\n"
     ]
    }
   ],
   "source": [
    "pred_errors = []\n",
    "machine_types = df['day'].unique()\n",
    "\n",
    "for i, machine_type in enumerate(machine_types):\n",
    "    train_data = df[df['day'] != machine_type]\n",
    "    test_data = df[df['day'] == machine_type]\n",
    "    formula = 'lpa ~ machine'\n",
    "    model = sm.OLS.from_formula(formula, data=train_data).fit()\n",
    "    prediction = model.predict(test_data)\n",
    "    pred_errors.append(((test_data[\"lpa\"].values - prediction.values) ** 2))\n",
    "\n",
    "mse1 = np.mean(pred_errors)\n",
    "print(\"Mean Squared Error:\", mse1)"
   ]
  },
  {
   "cell_type": "code",
   "execution_count": 153,
   "metadata": {},
   "outputs": [
    {
     "name": "stdout",
     "output_type": "stream",
     "text": [
      "Mean Squared Error: 0.01472760101784888\n"
     ]
    }
   ],
   "source": [
    "pred_errors = []\n",
    "machine_types = df['machine'].unique()\n",
    "day_types = df['day'].unique()\n",
    "\n",
    "for i, machine_type in enumerate(machine_types):\n",
    "    for i, day_type in enumerate(day_types):\n",
    "        train_data = df[(df['day'] != day_type) | (df['machine'] != machine_type)]\n",
    "        test_data = df[(df['day'] == day_type) & (df['machine'] == machine_type)]\n",
    "        prediction = len(test_data) * [np.mean(train_data[\"lpa\"])]\n",
    "        pred_errors.append(((test_data[\"lpa\"] - prediction) ** 2))\n",
    "\n",
    "mse1 = np.mean(pred_errors)\n",
    "print(\"Mean Squared Error:\", mse1)"
   ]
  },
  {
   "cell_type": "markdown",
   "metadata": {},
   "source": [
    "### COMPAS"
   ]
  },
  {
   "cell_type": "code",
   "execution_count": 4,
   "metadata": {},
   "outputs": [
    {
     "data": {
      "text/html": [
       "<div>\n",
       "<style scoped>\n",
       "    .dataframe tbody tr th:only-of-type {\n",
       "        vertical-align: middle;\n",
       "    }\n",
       "\n",
       "    .dataframe tbody tr th {\n",
       "        vertical-align: top;\n",
       "    }\n",
       "\n",
       "    .dataframe thead th {\n",
       "        text-align: right;\n",
       "    }\n",
       "</style>\n",
       "<table border=\"1\" class=\"dataframe\">\n",
       "  <thead>\n",
       "    <tr style=\"text-align: right;\">\n",
       "      <th></th>\n",
       "      <th>Unnamed: 0</th>\n",
       "      <th>id</th>\n",
       "      <th>name</th>\n",
       "      <th>sex</th>\n",
       "      <th>age</th>\n",
       "      <th>race</th>\n",
       "      <th>juv_fel_count</th>\n",
       "      <th>compas_score</th>\n",
       "      <th>juv_misd_count</th>\n",
       "      <th>juv_other_count</th>\n",
       "      <th>priors_count</th>\n",
       "      <th>two_year_recid</th>\n",
       "      <th>risk</th>\n",
       "    </tr>\n",
       "  </thead>\n",
       "  <tbody>\n",
       "    <tr>\n",
       "      <th>0</th>\n",
       "      <td>1</td>\n",
       "      <td>1</td>\n",
       "      <td>miguel hernandez</td>\n",
       "      <td>Male</td>\n",
       "      <td>69</td>\n",
       "      <td>Other</td>\n",
       "      <td>0</td>\n",
       "      <td>1</td>\n",
       "      <td>0</td>\n",
       "      <td>0</td>\n",
       "      <td>0</td>\n",
       "      <td>0</td>\n",
       "      <td>low</td>\n",
       "    </tr>\n",
       "    <tr>\n",
       "      <th>1</th>\n",
       "      <td>2</td>\n",
       "      <td>3</td>\n",
       "      <td>kevon dixon</td>\n",
       "      <td>Male</td>\n",
       "      <td>34</td>\n",
       "      <td>African-American</td>\n",
       "      <td>0</td>\n",
       "      <td>3</td>\n",
       "      <td>0</td>\n",
       "      <td>0</td>\n",
       "      <td>0</td>\n",
       "      <td>1</td>\n",
       "      <td>low</td>\n",
       "    </tr>\n",
       "    <tr>\n",
       "      <th>2</th>\n",
       "      <td>3</td>\n",
       "      <td>4</td>\n",
       "      <td>ed philo</td>\n",
       "      <td>Male</td>\n",
       "      <td>24</td>\n",
       "      <td>African-American</td>\n",
       "      <td>0</td>\n",
       "      <td>4</td>\n",
       "      <td>0</td>\n",
       "      <td>1</td>\n",
       "      <td>4</td>\n",
       "      <td>1</td>\n",
       "      <td>low</td>\n",
       "    </tr>\n",
       "    <tr>\n",
       "      <th>3</th>\n",
       "      <td>4</td>\n",
       "      <td>5</td>\n",
       "      <td>marcu brown</td>\n",
       "      <td>Male</td>\n",
       "      <td>23</td>\n",
       "      <td>African-American</td>\n",
       "      <td>0</td>\n",
       "      <td>8</td>\n",
       "      <td>1</td>\n",
       "      <td>0</td>\n",
       "      <td>1</td>\n",
       "      <td>0</td>\n",
       "      <td>high</td>\n",
       "    </tr>\n",
       "    <tr>\n",
       "      <th>4</th>\n",
       "      <td>5</td>\n",
       "      <td>6</td>\n",
       "      <td>bouthy pierrelouis</td>\n",
       "      <td>Male</td>\n",
       "      <td>43</td>\n",
       "      <td>Other</td>\n",
       "      <td>0</td>\n",
       "      <td>1</td>\n",
       "      <td>0</td>\n",
       "      <td>0</td>\n",
       "      <td>2</td>\n",
       "      <td>0</td>\n",
       "      <td>low</td>\n",
       "    </tr>\n",
       "    <tr>\n",
       "      <th>...</th>\n",
       "      <td>...</td>\n",
       "      <td>...</td>\n",
       "      <td>...</td>\n",
       "      <td>...</td>\n",
       "      <td>...</td>\n",
       "      <td>...</td>\n",
       "      <td>...</td>\n",
       "      <td>...</td>\n",
       "      <td>...</td>\n",
       "      <td>...</td>\n",
       "      <td>...</td>\n",
       "      <td>...</td>\n",
       "      <td>...</td>\n",
       "    </tr>\n",
       "    <tr>\n",
       "      <th>7209</th>\n",
       "      <td>7210</td>\n",
       "      <td>10996</td>\n",
       "      <td>steven butler</td>\n",
       "      <td>Male</td>\n",
       "      <td>23</td>\n",
       "      <td>African-American</td>\n",
       "      <td>0</td>\n",
       "      <td>7</td>\n",
       "      <td>0</td>\n",
       "      <td>0</td>\n",
       "      <td>0</td>\n",
       "      <td>0</td>\n",
       "      <td>high</td>\n",
       "    </tr>\n",
       "    <tr>\n",
       "      <th>7210</th>\n",
       "      <td>7211</td>\n",
       "      <td>10997</td>\n",
       "      <td>malcolm simmons</td>\n",
       "      <td>Male</td>\n",
       "      <td>23</td>\n",
       "      <td>African-American</td>\n",
       "      <td>0</td>\n",
       "      <td>3</td>\n",
       "      <td>0</td>\n",
       "      <td>0</td>\n",
       "      <td>0</td>\n",
       "      <td>0</td>\n",
       "      <td>low</td>\n",
       "    </tr>\n",
       "    <tr>\n",
       "      <th>7211</th>\n",
       "      <td>7212</td>\n",
       "      <td>10999</td>\n",
       "      <td>winston gregory</td>\n",
       "      <td>Male</td>\n",
       "      <td>57</td>\n",
       "      <td>Other</td>\n",
       "      <td>0</td>\n",
       "      <td>1</td>\n",
       "      <td>0</td>\n",
       "      <td>0</td>\n",
       "      <td>0</td>\n",
       "      <td>0</td>\n",
       "      <td>low</td>\n",
       "    </tr>\n",
       "    <tr>\n",
       "      <th>7212</th>\n",
       "      <td>7213</td>\n",
       "      <td>11000</td>\n",
       "      <td>farrah jean</td>\n",
       "      <td>Female</td>\n",
       "      <td>33</td>\n",
       "      <td>African-American</td>\n",
       "      <td>0</td>\n",
       "      <td>2</td>\n",
       "      <td>0</td>\n",
       "      <td>0</td>\n",
       "      <td>3</td>\n",
       "      <td>0</td>\n",
       "      <td>low</td>\n",
       "    </tr>\n",
       "    <tr>\n",
       "      <th>7213</th>\n",
       "      <td>7214</td>\n",
       "      <td>11001</td>\n",
       "      <td>florencia sanmartin</td>\n",
       "      <td>Female</td>\n",
       "      <td>23</td>\n",
       "      <td>Hispanic</td>\n",
       "      <td>0</td>\n",
       "      <td>4</td>\n",
       "      <td>0</td>\n",
       "      <td>0</td>\n",
       "      <td>2</td>\n",
       "      <td>1</td>\n",
       "      <td>low</td>\n",
       "    </tr>\n",
       "  </tbody>\n",
       "</table>\n",
       "<p>7214 rows × 13 columns</p>\n",
       "</div>"
      ],
      "text/plain": [
       "      Unnamed: 0     id                 name     sex  age              race  \\\n",
       "0              1      1     miguel hernandez    Male   69             Other   \n",
       "1              2      3          kevon dixon    Male   34  African-American   \n",
       "2              3      4             ed philo    Male   24  African-American   \n",
       "3              4      5          marcu brown    Male   23  African-American   \n",
       "4              5      6   bouthy pierrelouis    Male   43             Other   \n",
       "...          ...    ...                  ...     ...  ...               ...   \n",
       "7209        7210  10996        steven butler    Male   23  African-American   \n",
       "7210        7211  10997      malcolm simmons    Male   23  African-American   \n",
       "7211        7212  10999      winston gregory    Male   57             Other   \n",
       "7212        7213  11000          farrah jean  Female   33  African-American   \n",
       "7213        7214  11001  florencia sanmartin  Female   23          Hispanic   \n",
       "\n",
       "      juv_fel_count  compas_score  juv_misd_count  juv_other_count  \\\n",
       "0                 0             1               0                0   \n",
       "1                 0             3               0                0   \n",
       "2                 0             4               0                1   \n",
       "3                 0             8               1                0   \n",
       "4                 0             1               0                0   \n",
       "...             ...           ...             ...              ...   \n",
       "7209              0             7               0                0   \n",
       "7210              0             3               0                0   \n",
       "7211              0             1               0                0   \n",
       "7212              0             2               0                0   \n",
       "7213              0             4               0                0   \n",
       "\n",
       "      priors_count  two_year_recid  risk  \n",
       "0                0               0   low  \n",
       "1                0               1   low  \n",
       "2                4               1   low  \n",
       "3                1               0  high  \n",
       "4                2               0   low  \n",
       "...            ...             ...   ...  \n",
       "7209             0               0  high  \n",
       "7210             0               0   low  \n",
       "7211             0               0   low  \n",
       "7212             3               0   low  \n",
       "7213             2               1   low  \n",
       "\n",
       "[7214 rows x 13 columns]"
      ]
     },
     "execution_count": 4,
     "metadata": {},
     "output_type": "execute_result"
    }
   ],
   "source": [
    "df = pd.read_csv(\"compas_exercise_data.csv\")\n",
    "high_low = lambda x: \"high\" if x >= 5 else \"low\"\n",
    "df[\"risk\"] = df[\"compas_score\"].apply(high_low)\n",
    "df"
   ]
  },
  {
   "cell_type": "code",
   "execution_count": 31,
   "metadata": {},
   "outputs": [
    {
     "data": {
      "text/plain": [
       "African-American    3696\n",
       "Caucasian           2454\n",
       "Hispanic             637\n",
       "Other                377\n",
       "Asian                 32\n",
       "Native American       18\n",
       "Name: race, dtype: int64"
      ]
     },
     "execution_count": 31,
     "metadata": {},
     "output_type": "execute_result"
    }
   ],
   "source": [
    "df[\"race\"].value_counts()"
   ]
  },
  {
   "cell_type": "code",
   "execution_count": 6,
   "metadata": {},
   "outputs": [],
   "source": [
    "blacks = df[df[\"race\"] == \"African-American\"]\n",
    "whites = df[df[\"race\"] == \"Caucasian\"]"
   ]
  },
  {
   "cell_type": "code",
   "execution_count": 7,
   "metadata": {},
   "outputs": [],
   "source": [
    "blacks_high_risk_didnt_reoffend = blacks[(blacks[\"risk\"] == \"high\") & (blacks[\"two_year_recid\"] == 0)]\n",
    "blacks_low_risk_did_reoffend = blacks[(blacks[\"risk\"] == \"low\") & (blacks[\"two_year_recid\"] == 1)]\n",
    "whites_high_risk_didnt_reoffend = whites[(whites[\"risk\"] == \"high\") & (whites[\"two_year_recid\"] == 0)]\n",
    "whites_low_risk_did_reoffend = whites[(whites[\"risk\"] == \"low\") & (whites[\"two_year_recid\"] == 1)]"
   ]
  },
  {
   "cell_type": "code",
   "execution_count": 8,
   "metadata": {},
   "outputs": [],
   "source": [
    "blacks_high_risk = blacks[(blacks[\"risk\"] == \"high\")]\n",
    "blacks_low_risk = blacks[(blacks[\"risk\"] == \"low\")]\n",
    "whites_high_risk = whites[(whites[\"risk\"] == \"high\")]\n",
    "whites_low_risk = whites[(whites[\"risk\"] == \"low\")]"
   ]
  },
  {
   "cell_type": "code",
   "execution_count": 12,
   "metadata": {},
   "outputs": [],
   "source": [
    "ru = len(blacks_high_risk_didnt_reoffend) / len(blacks_high_risk) * 100\n",
    "rd = len(blacks_low_risk_did_reoffend) / len(blacks_low_risk) * 100\n",
    "lu = len(whites_high_risk_didnt_reoffend) / len(whites_high_risk) * 100\n",
    "ld = len(whites_low_risk_did_reoffend) / len(whites_low_risk) * 100"
   ]
  },
  {
   "cell_type": "code",
   "execution_count": 17,
   "metadata": {},
   "outputs": [
    {
     "name": "stdout",
     "output_type": "stream",
     "text": [
      "40.866510538641684 | 37.02851885924563\n",
      "---------------------------------------\n",
      "28.812500000000004 | 34.95400788436268\n"
     ]
    }
   ],
   "source": [
    "print(str(lu) + \" | \" + str(ru) + \"\\n---------------------------------------\\n\" + str(ld) + \" | \" + str(rd))"
   ]
  },
  {
   "cell_type": "code",
   "execution_count": 35,
   "metadata": {},
   "outputs": [
    {
     "name": "stdout",
     "output_type": "stream",
     "text": [
      "Optimization terminated successfully.\n",
      "         Current function value: 0.614512\n",
      "         Iterations 6\n"
     ]
    },
    {
     "data": {
      "text/html": [
       "<table class=\"simpletable\">\n",
       "<caption>Logit Regression Results</caption>\n",
       "<tr>\n",
       "  <th>Dep. Variable:</th>    <td>two_year_recid</td>  <th>  No. Observations:  </th>   <td>  7214</td>  \n",
       "</tr>\n",
       "<tr>\n",
       "  <th>Model:</th>                 <td>Logit</td>      <th>  Df Residuals:      </th>   <td>  7204</td>  \n",
       "</tr>\n",
       "<tr>\n",
       "  <th>Method:</th>                 <td>MLE</td>       <th>  Df Model:          </th>   <td>     9</td>  \n",
       "</tr>\n",
       "<tr>\n",
       "  <th>Date:</th>            <td>Thu, 04 Jan 2024</td> <th>  Pseudo R-squ.:     </th>   <td>0.1072</td>  \n",
       "</tr>\n",
       "<tr>\n",
       "  <th>Time:</th>                <td>12:13:21</td>     <th>  Log-Likelihood:    </th>  <td> -4433.1</td> \n",
       "</tr>\n",
       "<tr>\n",
       "  <th>converged:</th>             <td>True</td>       <th>  LL-Null:           </th>  <td> -4965.2</td> \n",
       "</tr>\n",
       "<tr>\n",
       "  <th>Covariance Type:</th>     <td>nonrobust</td>    <th>  LLR p-value:       </th> <td>2.497e-223</td>\n",
       "</tr>\n",
       "</table>\n",
       "<table class=\"simpletable\">\n",
       "<tr>\n",
       "             <td></td>                <th>coef</th>     <th>std err</th>      <th>z</th>      <th>P>|z|</th>  <th>[0.025</th>    <th>0.975]</th>  \n",
       "</tr>\n",
       "<tr>\n",
       "  <th>Intercept</th>               <td>    0.8518</td> <td>    0.086</td> <td>    9.946</td> <td> 0.000</td> <td>    0.684</td> <td>    1.020</td>\n",
       "</tr>\n",
       "<tr>\n",
       "  <th>race[T.Asian]</th>           <td>   -0.4238</td> <td>    0.412</td> <td>   -1.029</td> <td> 0.303</td> <td>   -1.231</td> <td>    0.383</td>\n",
       "</tr>\n",
       "<tr>\n",
       "  <th>race[T.Caucasian]</th>       <td>   -0.0554</td> <td>    0.058</td> <td>   -0.954</td> <td> 0.340</td> <td>   -0.169</td> <td>    0.058</td>\n",
       "</tr>\n",
       "<tr>\n",
       "  <th>race[T.Hispanic]</th>        <td>   -0.2368</td> <td>    0.095</td> <td>   -2.504</td> <td> 0.012</td> <td>   -0.422</td> <td>   -0.051</td>\n",
       "</tr>\n",
       "<tr>\n",
       "  <th>race[T.Native American]</th> <td>   -0.0254</td> <td>    0.522</td> <td>   -0.049</td> <td> 0.961</td> <td>   -1.049</td> <td>    0.999</td>\n",
       "</tr>\n",
       "<tr>\n",
       "  <th>race[T.Other]</th>           <td>   -0.2342</td> <td>    0.119</td> <td>   -1.971</td> <td> 0.049</td> <td>   -0.467</td> <td>   -0.001</td>\n",
       "</tr>\n",
       "<tr>\n",
       "  <th>age</th>                     <td>   -0.0448</td> <td>    0.003</td> <td>  -17.854</td> <td> 0.000</td> <td>   -0.050</td> <td>   -0.040</td>\n",
       "</tr>\n",
       "<tr>\n",
       "  <th>priors_count</th>            <td>    0.1514</td> <td>    0.007</td> <td>   21.783</td> <td> 0.000</td> <td>    0.138</td> <td>    0.165</td>\n",
       "</tr>\n",
       "<tr>\n",
       "  <th>juv_fel_count</th>           <td>    0.1808</td> <td>    0.083</td> <td>    2.175</td> <td> 0.030</td> <td>    0.018</td> <td>    0.344</td>\n",
       "</tr>\n",
       "<tr>\n",
       "  <th>juv_other_count</th>         <td>    0.2002</td> <td>    0.062</td> <td>    3.232</td> <td> 0.001</td> <td>    0.079</td> <td>    0.322</td>\n",
       "</tr>\n",
       "</table>"
      ],
      "text/latex": [
       "\\begin{center}\n",
       "\\begin{tabular}{lclc}\n",
       "\\toprule\n",
       "\\textbf{Dep. Variable:}          & two\\_year\\_recid & \\textbf{  No. Observations:  } &     7214    \\\\\n",
       "\\textbf{Model:}                  &      Logit       & \\textbf{  Df Residuals:      } &     7204    \\\\\n",
       "\\textbf{Method:}                 &       MLE        & \\textbf{  Df Model:          } &        9    \\\\\n",
       "\\textbf{Date:}                   & Thu, 04 Jan 2024 & \\textbf{  Pseudo R-squ.:     } &   0.1072    \\\\\n",
       "\\textbf{Time:}                   &     12:13:21     & \\textbf{  Log-Likelihood:    } &   -4433.1   \\\\\n",
       "\\textbf{converged:}              &       True       & \\textbf{  LL-Null:           } &   -4965.2   \\\\\n",
       "\\textbf{Covariance Type:}        &    nonrobust     & \\textbf{  LLR p-value:       } & 2.497e-223  \\\\\n",
       "\\bottomrule\n",
       "\\end{tabular}\n",
       "\\begin{tabular}{lcccccc}\n",
       "                                 & \\textbf{coef} & \\textbf{std err} & \\textbf{z} & \\textbf{P$> |$z$|$} & \\textbf{[0.025} & \\textbf{0.975]}  \\\\\n",
       "\\midrule\n",
       "\\textbf{Intercept}               &       0.8518  &        0.086     &     9.946  &         0.000        &        0.684    &        1.020     \\\\\n",
       "\\textbf{race[T.Asian]}           &      -0.4238  &        0.412     &    -1.029  &         0.303        &       -1.231    &        0.383     \\\\\n",
       "\\textbf{race[T.Caucasian]}       &      -0.0554  &        0.058     &    -0.954  &         0.340        &       -0.169    &        0.058     \\\\\n",
       "\\textbf{race[T.Hispanic]}        &      -0.2368  &        0.095     &    -2.504  &         0.012        &       -0.422    &       -0.051     \\\\\n",
       "\\textbf{race[T.Native American]} &      -0.0254  &        0.522     &    -0.049  &         0.961        &       -1.049    &        0.999     \\\\\n",
       "\\textbf{race[T.Other]}           &      -0.2342  &        0.119     &    -1.971  &         0.049        &       -0.467    &       -0.001     \\\\\n",
       "\\textbf{age}                     &      -0.0448  &        0.003     &   -17.854  &         0.000        &       -0.050    &       -0.040     \\\\\n",
       "\\textbf{priors\\_count}           &       0.1514  &        0.007     &    21.783  &         0.000        &        0.138    &        0.165     \\\\\n",
       "\\textbf{juv\\_fel\\_count}         &       0.1808  &        0.083     &     2.175  &         0.030        &        0.018    &        0.344     \\\\\n",
       "\\textbf{juv\\_other\\_count}       &       0.2002  &        0.062     &     3.232  &         0.001        &        0.079    &        0.322     \\\\\n",
       "\\bottomrule\n",
       "\\end{tabular}\n",
       "%\\caption{Logit Regression Results}\n",
       "\\end{center}"
      ],
      "text/plain": [
       "<class 'statsmodels.iolib.summary.Summary'>\n",
       "\"\"\"\n",
       "                           Logit Regression Results                           \n",
       "==============================================================================\n",
       "Dep. Variable:         two_year_recid   No. Observations:                 7214\n",
       "Model:                          Logit   Df Residuals:                     7204\n",
       "Method:                           MLE   Df Model:                            9\n",
       "Date:                Thu, 04 Jan 2024   Pseudo R-squ.:                  0.1072\n",
       "Time:                        12:13:21   Log-Likelihood:                -4433.1\n",
       "converged:                       True   LL-Null:                       -4965.2\n",
       "Covariance Type:            nonrobust   LLR p-value:                2.497e-223\n",
       "===========================================================================================\n",
       "                              coef    std err          z      P>|z|      [0.025      0.975]\n",
       "-------------------------------------------------------------------------------------------\n",
       "Intercept                   0.8518      0.086      9.946      0.000       0.684       1.020\n",
       "race[T.Asian]              -0.4238      0.412     -1.029      0.303      -1.231       0.383\n",
       "race[T.Caucasian]          -0.0554      0.058     -0.954      0.340      -0.169       0.058\n",
       "race[T.Hispanic]           -0.2368      0.095     -2.504      0.012      -0.422      -0.051\n",
       "race[T.Native American]    -0.0254      0.522     -0.049      0.961      -1.049       0.999\n",
       "race[T.Other]              -0.2342      0.119     -1.971      0.049      -0.467      -0.001\n",
       "age                        -0.0448      0.003    -17.854      0.000      -0.050      -0.040\n",
       "priors_count                0.1514      0.007     21.783      0.000       0.138       0.165\n",
       "juv_fel_count               0.1808      0.083      2.175      0.030       0.018       0.344\n",
       "juv_other_count             0.2002      0.062      3.232      0.001       0.079       0.322\n",
       "===========================================================================================\n",
       "\"\"\""
      ]
     },
     "execution_count": 35,
     "metadata": {},
     "output_type": "execute_result"
    }
   ],
   "source": [
    "L = sm.Logit.from_formula(\"two_year_recid ~  age + priors_count + juv_fel_count + juv_other_count + race\", df).fit()\n",
    "L.summary()"
   ]
  },
  {
   "cell_type": "code",
   "execution_count": 36,
   "metadata": {},
   "outputs": [
    {
     "data": {
      "text/plain": [
       "0.2120662441100862"
      ]
     },
     "execution_count": 36,
     "metadata": {},
     "output_type": "execute_result"
    }
   ],
   "source": [
    "np.mean((L.predict(df) - df[\"two_year_recid\"])**2) # with race"
   ]
  },
  {
   "cell_type": "code",
   "execution_count": 39,
   "metadata": {},
   "outputs": [
    {
     "name": "stdout",
     "output_type": "stream",
     "text": [
      "Optimization terminated successfully.\n",
      "         Current function value: 0.613798\n",
      "         Iterations 6\n"
     ]
    },
    {
     "data": {
      "text/plain": [
       "0.2116874755668103"
      ]
     },
     "execution_count": 39,
     "metadata": {},
     "output_type": "execute_result"
    }
   ],
   "source": [
    "L = sm.Logit.from_formula(\"two_year_recid ~  age + priors_count + juv_fel_count + juv_other_count + sex\", df).fit()\n",
    "np.mean((L.predict(df) - df[\"two_year_recid\"])**2) # without race"
   ]
  },
  {
   "cell_type": "code",
   "execution_count": 42,
   "metadata": {},
   "outputs": [
    {
     "name": "stdout",
     "output_type": "stream",
     "text": [
      "Optimization terminated successfully.\n",
      "         Current function value: 0.613023\n",
      "         Iterations 6\n"
     ]
    },
    {
     "data": {
      "text/plain": [
       "0.21140864817848862"
      ]
     },
     "execution_count": 42,
     "metadata": {},
     "output_type": "execute_result"
    }
   ],
   "source": [
    "L = sm.Logit.from_formula(\"two_year_recid ~  age + priors_count + juv_fel_count + juv_other_count + sex + race\", df).fit()\n",
    "np.mean((L.predict(df) - df[\"two_year_recid\"])**2) # without race"
   ]
  },
  {
   "cell_type": "code",
   "execution_count": 41,
   "metadata": {},
   "outputs": [
    {
     "name": "stdout",
     "output_type": "stream",
     "text": [
      "Optimization terminated successfully.\n",
      "         Current function value: 0.615203\n",
      "         Iterations 6\n"
     ]
    },
    {
     "data": {
      "text/plain": [
       "0.21230802950716082"
      ]
     },
     "execution_count": 41,
     "metadata": {},
     "output_type": "execute_result"
    }
   ],
   "source": [
    "L = sm.Logit.from_formula(\"two_year_recid ~  age + priors_count + juv_fel_count + juv_other_count\", df).fit()\n",
    "np.mean((L.predict(df) - df[\"two_year_recid\"])**2) # without race"
   ]
  },
  {
   "cell_type": "code",
   "execution_count": 55,
   "metadata": {},
   "outputs": [
    {
     "data": {
      "text/plain": [
       "0.6537288605489326"
      ]
     },
     "execution_count": 55,
     "metadata": {},
     "output_type": "execute_result"
    }
   ],
   "source": [
    "correct = df[(df[\"two_year_recid\"] == 1) & (df[\"risk\"] == \"high\") | (df[\"two_year_recid\"] == 0) & (df[\"risk\"] == \"low\")]\n",
    "len(correct) / len(df)"
   ]
  },
  {
   "cell_type": "markdown",
   "metadata": {},
   "source": []
  },
  {
   "cell_type": "code",
   "execution_count": null,
   "metadata": {},
   "outputs": [],
   "source": []
  }
 ],
 "metadata": {
  "kernelspec": {
   "display_name": "Python 3.11.2 64-bit",
   "language": "python",
   "name": "python3"
  },
  "language_info": {
   "codemirror_mode": {
    "name": "ipython",
    "version": 3
   },
   "file_extension": ".py",
   "mimetype": "text/x-python",
   "name": "python",
   "nbconvert_exporter": "python",
   "pygments_lexer": "ipython3",
   "version": "3.11.2"
  },
  "orig_nbformat": 4,
  "vscode": {
   "interpreter": {
    "hash": "b0fa6594d8f4cbf19f97940f81e996739fb7646882a419484c72d19e05852a7e"
   }
  }
 },
 "nbformat": 4,
 "nbformat_minor": 2
}

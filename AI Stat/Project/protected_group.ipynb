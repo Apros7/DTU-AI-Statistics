{
 "cells": [
  {
   "cell_type": "code",
   "execution_count": 12,
   "metadata": {},
   "outputs": [],
   "source": [
    "import pandas as pd\n",
    "import torch\n",
    "import numpy as np"
   ]
  },
  {
   "cell_type": "markdown",
   "metadata": {},
   "source": [
    "utils"
   ]
  },
  {
   "cell_type": "code",
   "execution_count": 13,
   "metadata": {},
   "outputs": [],
   "source": [
    "def frust_class(x):\n",
    "    if int(x) <= 3:\n",
    "        return 0\n",
    "    else:\n",
    "        return 1\n",
    "\n",
    "def normalize_column(df, columns):\n",
    "    for column in columns:\n",
    "        data = df[column]\n",
    "        min_val = data.min()\n",
    "        max_val = data.max()\n",
    "        normalized_column = (data - min_val) / (max_val - min_val)\n",
    "        df[column] = normalized_column\n",
    "    return df"
   ]
  },
  {
   "cell_type": "markdown",
   "metadata": {},
   "source": [
    "models"
   ]
  },
  {
   "cell_type": "code",
   "execution_count": 14,
   "metadata": {},
   "outputs": [],
   "source": [
    "def baseline(x_train, x_test, y_train, y_test, func_var):\n",
    "    most_common_class = max(set(y_train), key=y_train.tolist().count)\n",
    "    y_pred = [most_common_class] * len(y_test)\n",
    "    y_pred = torch.tensor([t.item() for t in y_pred])\n",
    "    return y_pred"
   ]
  },
  {
   "cell_type": "code",
   "execution_count": 15,
   "metadata": {},
   "outputs": [],
   "source": [
    "from sklearn import tree\n",
    "from matplotlib.image import imread\n",
    "from sklearn.metrics import f1_score, accuracy_score\n",
    "\n",
    "def ClassTree(x_train, x_test, y_train, y_test, func_var):\n",
    "    criterion=func_var\n",
    "    dtc = tree.DecisionTreeClassifier(criterion=criterion, min_samples_split=100)\n",
    "    dtc = dtc.fit(x_train,y_train)\n",
    "    y_pred = dtc.predict(x_test)\n",
    "    \n",
    "    return y_pred"
   ]
  },
  {
   "cell_type": "code",
   "execution_count": 16,
   "metadata": {},
   "outputs": [],
   "source": [
    "from sklearn.neighbors import KNeighborsClassifier \n",
    "\n",
    "def KNN(x_train, x_test, y_train, y_test, func_var):\n",
    "\n",
    "    K=func_var\n",
    "    dist=1\n",
    "    metric = 'minkowski'\n",
    "    metric_params = {}\n",
    "    knclassifier = KNeighborsClassifier(n_neighbors=K, p=dist, metric=metric, metric_params=metric_params)\n",
    "    knclassifier.fit(x_train, y_train)\n",
    "    y_pred = knclassifier.predict(x_test)\n",
    "    return y_pred"
   ]
  },
  {
   "cell_type": "code",
   "execution_count": 17,
   "metadata": {},
   "outputs": [],
   "source": [
    "from sklearn.linear_model import LogisticRegression\n",
    "\n",
    "def LogReg(x_train, x_test, y_train, y_test, func_var):\n",
    "\n",
    "    logistic_regression_model = LogisticRegression(C=1/func_var, max_iter=5000)\n",
    "    logistic_regression_model.fit(x_train, y_train)\n",
    "    y_test_est = logistic_regression_model.predict(x_test).T\n",
    "    return y_test_est"
   ]
  },
  {
   "cell_type": "code",
   "execution_count": 23,
   "metadata": {},
   "outputs": [],
   "source": [
    "import torch.nn as nn\n",
    "import torch.optim as optim\n",
    "from torch.utils.data import DataLoader, TensorDataset\n",
    "from tqdm import tqdm\n",
    "\n",
    "class SimpleNN(nn.Module):\n",
    "    def __init__(self, input_size, h, output_size) -> None:\n",
    "        super().__init__()\n",
    "        self.layers = nn.Sequential(\n",
    "            nn.Linear(input_size, h),\n",
    "            nn.ReLU(),  \n",
    "            nn.Linear(h, output_size),\n",
    "            nn.Sigmoid(),\n",
    "        )\n",
    "\n",
    "    def forward(self, x): return self.layers.forward(x)\n",
    "\n",
    "def get_predictions(test_x, model):\n",
    "    model.eval()\n",
    "    with torch.no_grad():\n",
    "        return model(test_x)\n",
    "\n",
    "def train_model(model, criterion, optimizer, train_loader, epochs):\n",
    "    losses = []\n",
    "    model.train()\n",
    "    for epoch in tqdm(range(epochs)):\n",
    "        for i, (inputs, labels) in enumerate(train_loader):\n",
    "            optimizer.zero_grad() \n",
    "            outputs = model(inputs)\n",
    "            outputs = torch.cat(list(outputs), dim=0)\n",
    "            labels = torch.flatten(labels)\n",
    "            loss = criterion(outputs, labels.float()) \n",
    "            loss.backward()\n",
    "            optimizer.step()\n",
    "            losses.append(loss.item())\n",
    "\n",
    "def ann(x_train, x_test, y_train, y_test, func_var):\n",
    "\n",
    "    input_size = 6\n",
    "    # binary for status\n",
    "    output_size = 1\n",
    "    learning_rate = 1e-5\n",
    "    epochs = 10000\n",
    "    batch_size = 32\n",
    "    h = func_var\n",
    "\n",
    "    model = SimpleNN(input_size, h, output_size)\n",
    "    criterion = nn.BCELoss()\n",
    "    optimizer = optim.Adam(model.parameters(), lr=learning_rate)\n",
    "\n",
    "    train_dataset = TensorDataset(x_train, y_train)\n",
    "    train_loader = DataLoader(train_dataset, batch_size=batch_size, shuffle=True)\n",
    "\n",
    "    train_model(model, criterion, optimizer, train_loader, epochs)\n",
    "    raw_predictions = get_predictions(x_test, model)\n",
    "    predictions = np.argmax(raw_predictions, axis=1)\n",
    "    return predictions"
   ]
  },
  {
   "cell_type": "code",
   "execution_count": 24,
   "metadata": {},
   "outputs": [],
   "source": [
    "data = pd.read_csv(\"HR_data.csv\")\n",
    "data[\"HighlyFrustrated\"] = data[\"Frustrated\"].apply(frust_class)\n",
    "data = normalize_column(data, [\"HR_Mean\", \"HR_Median\", \"HR_std\", \"HR_Min\", \"HR_Max\", \"HR_AUC\"])\n",
    "test_df = data[data[\"Cohort\"] == \"D1_2\"]\n",
    "train_df = data[data[\"Cohort\"] == \"D1_1\"]\n",
    "\n",
    "x_test = test_df[[\"HR_Mean\", \"HR_Median\", \"HR_std\", \"HR_Min\", \"HR_Max\", \"HR_AUC\"]].values\n",
    "x_train = train_df[[\"HR_Mean\", \"HR_Median\", \"HR_std\", \"HR_Min\", \"HR_Max\", \"HR_AUC\"]].values\n",
    "y_test = test_df[\"HighlyFrustrated\"].values\n",
    "y_train = train_df[\"HighlyFrustrated\"].values\n",
    "\n",
    "x_test = torch.tensor(x_test.astype(np.float32()))\n",
    "x_train = torch.tensor(x_train.astype(np.float32()))\n",
    "y_test = torch.tensor(y_test.astype(np.float32()))\n",
    "y_train = torch.tensor(y_train.astype(np.float32()))"
   ]
  },
  {
   "cell_type": "code",
   "execution_count": 25,
   "metadata": {},
   "outputs": [
    {
     "name": "stderr",
     "output_type": "stream",
     "text": [
      "100%|██████████| 10000/10000 [00:18<00:00, 531.93it/s]\n"
     ]
    }
   ],
   "source": [
    "baseline_pred = baseline(x_train, x_test, y_train, y_test, None)\n",
    "tree_pred = ClassTree(x_train, x_test, y_train, y_test, \"gini\")\n",
    "knn_pred = KNN(x_train, x_test, y_train, y_test, 8)\n",
    "logred_pred = LogReg(x_train, x_test, y_train, y_test, 0.1)\n",
    "ann_pred = ann(x_train, x_test, y_train, y_test, 256)\n",
    "df = pd.DataFrame()"
   ]
  },
  {
   "cell_type": "code",
   "execution_count": 26,
   "metadata": {},
   "outputs": [],
   "source": [
    "df[\"Baseline\"] = baseline_pred\n",
    "df[\"Tree\"] = tree_pred\n",
    "df[\"KNN\"] = knn_pred\n",
    "df[\"LogReg\"] = logred_pred\n",
    "df[\"ANN\"] = ann_pred\n",
    "df[\"True Values\"] = y_test\n",
    "\n",
    "df.to_csv(\"protected_group_predictions.csv\")"
   ]
  },
  {
   "cell_type": "code",
   "execution_count": 22,
   "metadata": {},
   "outputs": [
    {
     "data": {
      "text/plain": [
       "(0.8055555555555556,\n",
       " 0.8055555555555556,\n",
       " 0.7361111111111112,\n",
       " 0.8055555555555556,\n",
       " 0.8055555555555556)"
      ]
     },
     "execution_count": 22,
     "metadata": {},
     "output_type": "execute_result"
    }
   ],
   "source": [
    "from sklearn.metrics import f1_score, accuracy_score, recall_score, precision_score\n",
    "baseline_acc = accuracy_score(baseline_pred, y_test)\n",
    "tree_acc = accuracy_score(tree_pred, y_test)\n",
    "knn_acc = accuracy_score(knn_pred, y_test)\n",
    "logreg_acc = accuracy_score(logred_pred, y_test)\n",
    "ann_acc = accuracy_score(ann_pred, y_test)\n",
    "\n",
    "baseline_acc, tree_acc, knn_acc, logreg_acc, ann_acc"
   ]
  },
  {
   "cell_type": "code",
   "execution_count": null,
   "metadata": {},
   "outputs": [],
   "source": []
  }
 ],
 "metadata": {
  "kernelspec": {
   "display_name": "Python 3.11.2 64-bit",
   "language": "python",
   "name": "python3"
  },
  "language_info": {
   "codemirror_mode": {
    "name": "ipython",
    "version": 3
   },
   "file_extension": ".py",
   "mimetype": "text/x-python",
   "name": "python",
   "nbconvert_exporter": "python",
   "pygments_lexer": "ipython3",
   "version": "3.11.2"
  },
  "orig_nbformat": 4,
  "vscode": {
   "interpreter": {
    "hash": "b0fa6594d8f4cbf19f97940f81e996739fb7646882a419484c72d19e05852a7e"
   }
  }
 },
 "nbformat": 4,
 "nbformat_minor": 2
}
